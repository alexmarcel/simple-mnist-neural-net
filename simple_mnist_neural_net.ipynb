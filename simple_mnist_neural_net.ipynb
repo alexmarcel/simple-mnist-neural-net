{
  "nbformat": 4,
  "nbformat_minor": 0,
  "metadata": {
    "colab": {
      "provenance": [],
      "gpuType": "T4",
      "authorship_tag": "ABX9TyMB/vZI8n26pI/dfvw3MZKD",
      "include_colab_link": true
    },
    "kernelspec": {
      "name": "python3",
      "display_name": "Python 3"
    },
    "language_info": {
      "name": "python"
    },
    "accelerator": "GPU"
  },
  "cells": [
    {
      "cell_type": "markdown",
      "metadata": {
        "id": "view-in-github",
        "colab_type": "text"
      },
      "source": [
        "<a href=\"https://colab.research.google.com/github/alexmarcel/simple-mnist-neural-net/blob/main/simple_mnist_neural_net.ipynb\" target=\"_parent\"><img src=\"https://colab.research.google.com/assets/colab-badge.svg\" alt=\"Open In Colab\"/></a>"
      ]
    },
    {
      "cell_type": "markdown",
      "source": [
        "Imports"
      ],
      "metadata": {
        "id": "Xpv1_3hrn7n4"
      }
    },
    {
      "cell_type": "code",
      "execution_count": 1,
      "metadata": {
        "id": "H6LxPA0EnNgl"
      },
      "outputs": [],
      "source": [
        "# imports\n",
        "\n",
        "import torch\n",
        "import torch.nn as nn\n",
        "import torch.optim as optim\n",
        "import torch.nn.functional as F\n",
        "import torchvision.datasets as datasets\n",
        "import torchvision.transforms as transforms\n",
        "import matplotlib.pyplot as plt\n",
        "\n",
        "from torch.utils.data import DataLoader\n",
        "from PIL import Image"
      ]
    },
    {
      "cell_type": "markdown",
      "source": [
        "Create Fully Connected Network"
      ],
      "metadata": {
        "id": "vw2dr8MGorQH"
      }
    },
    {
      "cell_type": "code",
      "source": [
        "class NN(nn.Module):\n",
        "\n",
        "    def __init__(self, input_size, num_classes):\n",
        "      super(NN, self).__init__()\n",
        "\n",
        "      self.fc1 = nn.Linear(input_size, 50)\n",
        "      self.fc2 = nn.Linear(50, num_classes)\n",
        "\n",
        "    def forward(self, x):\n",
        "      x = F.relu(self.fc1(x))\n",
        "      x = self.fc2(x)\n",
        "      return x"
      ],
      "metadata": {
        "id": "1La4JTM3ovJD"
      },
      "execution_count": 2,
      "outputs": []
    },
    {
      "cell_type": "markdown",
      "source": [
        "Set Device"
      ],
      "metadata": {
        "id": "VaWDlXayqAr2"
      }
    },
    {
      "cell_type": "code",
      "source": [
        "device = torch.device('cuda' if torch.cuda.is_available() else 'cpu')\n",
        "\n",
        "print(f\"Using device : {device}\")"
      ],
      "metadata": {
        "id": "WesB0iPVqCSF"
      },
      "execution_count": null,
      "outputs": []
    },
    {
      "cell_type": "markdown",
      "source": [
        "Hyperparameters"
      ],
      "metadata": {
        "id": "xZPwbgbCqRuM"
      }
    },
    {
      "cell_type": "code",
      "source": [
        "input_size = 784\n",
        "num_classes = 10\n",
        "learning_rate = 0.001\n",
        "batch_size = 64\n",
        "num_epochs = 10"
      ],
      "metadata": {
        "id": "5l_Ilx15qTP8"
      },
      "execution_count": 4,
      "outputs": []
    },
    {
      "cell_type": "markdown",
      "source": [
        "Load Data"
      ],
      "metadata": {
        "id": "ON54jbEDqijr"
      }
    },
    {
      "cell_type": "code",
      "source": [
        "train_dataset = datasets.MNIST(root='dataset/', train=True, transform=transforms.ToTensor(), download=True)\n",
        "train_loader = DataLoader(dataset=train_dataset, batch_size=batch_size, shuffle=True)\n",
        "\n",
        "test_dataset = datasets.MNIST(root='dataset/', train=False, transform=transforms.ToTensor(), download=True)\n",
        "test_loader = DataLoader(dataset=test_dataset, batch_size=batch_size, shuffle=True)"
      ],
      "metadata": {
        "id": "lKEp_2Y-qkBu"
      },
      "execution_count": 5,
      "outputs": []
    },
    {
      "cell_type": "markdown",
      "source": [
        "Initialize Network"
      ],
      "metadata": {
        "id": "jq7l4VVwrf73"
      }
    },
    {
      "cell_type": "code",
      "source": [
        "model = NN(input_size=input_size, num_classes=num_classes).to(device)"
      ],
      "metadata": {
        "id": "6NOkSF5yrhjr"
      },
      "execution_count": 6,
      "outputs": []
    },
    {
      "cell_type": "markdown",
      "source": [
        "Loss and Optimizer"
      ],
      "metadata": {
        "id": "mFiHBY7qrzjY"
      }
    },
    {
      "cell_type": "code",
      "source": [
        "criterion = nn.CrossEntropyLoss()\n",
        "optimizer = optim.Adam(model.parameters(), lr=learning_rate)"
      ],
      "metadata": {
        "id": "7haf1uX5r1AQ"
      },
      "execution_count": 7,
      "outputs": []
    },
    {
      "cell_type": "markdown",
      "source": [
        "Train Network"
      ],
      "metadata": {
        "id": "t11y-jlCsG1M"
      }
    },
    {
      "cell_type": "code",
      "source": [
        "for epoch in range(num_epochs):\n",
        "  for batch_idx, (data, targets) in enumerate(train_loader):\n",
        "\n",
        "    # Move data to device (cuda/cpu)\n",
        "    data = data.to(device=device)\n",
        "    targets = targets.to(device=device)\n",
        "\n",
        "    # Get to correct shape / flatten 28x28 to 784\n",
        "    data = data.reshape(data.shape[0], -1)\n",
        "\n",
        "    # Forward\n",
        "    scores = model(data)\n",
        "    loss = criterion(scores, targets)\n",
        "\n",
        "    # Backward\n",
        "    optimizer.zero_grad() # set gradient to zero for each batch\n",
        "    loss.backward()\n",
        "\n",
        "    # Gradient descent or adam step\n",
        "    optimizer.step()\n",
        "\n",
        "    print(f\"Epoch : {epoch} - batch - {batch_idx} - loss : {loss}\")\n"
      ],
      "metadata": {
        "id": "7EYPjN8psIjG"
      },
      "execution_count": null,
      "outputs": []
    },
    {
      "cell_type": "markdown",
      "source": [
        "Check accuracy on training and test to see model performance"
      ],
      "metadata": {
        "id": "vSgorBrguDGG"
      }
    },
    {
      "cell_type": "code",
      "source": [
        "def check_accuracy(loader, model):\n",
        "\n",
        "  if loader.dataset.train:\n",
        "    print(\"Checking accuracy on training data\")\n",
        "  else:\n",
        "    print(\"Checking accuracy on test data\")\n",
        "\n",
        "  num_correct = 0\n",
        "  num_samples = 0\n",
        "\n",
        "  model.eval() # set model to eval mode\n",
        "\n",
        "  with torch.no_grad():\n",
        "    for x, y in loader:\n",
        "      x = x.to(device=device)\n",
        "      y = y.to(device=device)\n",
        "      x = x.reshape(x.shape[0], -1)\n",
        "\n",
        "      scores = model(x)\n",
        "      _, predictions = scores.max(1)\n",
        "      num_correct += (predictions == y).sum()\n",
        "      num_samples += predictions.size(0)\n",
        "\n",
        "    print(f\"{num_correct} / {num_samples} with accuracy of {float(num_correct)/float(num_samples)*100:.2f}\")\n",
        "\n",
        "  model.train() # set model to train mode, if need to train more\n",
        "\n",
        "check_accuracy(train_loader, model)\n",
        "check_accuracy(test_loader, model)"
      ],
      "metadata": {
        "id": "QduWw746uJOQ"
      },
      "execution_count": null,
      "outputs": []
    },
    {
      "cell_type": "markdown",
      "source": [
        "Save Model"
      ],
      "metadata": {
        "id": "5rX8EBeg3C0O"
      }
    },
    {
      "cell_type": "code",
      "source": [
        "torch.save(model.state_dict(), 'model.pth')"
      ],
      "metadata": {
        "id": "_b902mLp3CV9"
      },
      "execution_count": 10,
      "outputs": []
    },
    {
      "cell_type": "markdown",
      "source": [
        "Load Model"
      ],
      "metadata": {
        "id": "HbTEo5__3c-0"
      }
    },
    {
      "cell_type": "code",
      "source": [
        "model_test = NN(input_size, num_classes).to(device) # input_size and num_classes should follow trained model hyperparameters\n",
        "\n",
        "model_test.load_state_dict(torch.load('model.pth'))"
      ],
      "metadata": {
        "id": "68wyqUqX3fEA"
      },
      "execution_count": null,
      "outputs": []
    },
    {
      "cell_type": "markdown",
      "source": [
        "Test Loaded Model"
      ],
      "metadata": {
        "id": "rKjVxApi3vMj"
      }
    },
    {
      "cell_type": "code",
      "source": [
        "# Set to eval mode\n",
        "model.eval()\n",
        "\n",
        "# Define the transformation to apply to the input image\n",
        "transform = transforms.Compose([\n",
        "    transforms.Grayscale(num_output_channels=1),  # Ensure the image is grayscale if needed\n",
        "    transforms.Resize((28, 28)),  # Resize the image to match the MNIST size\n",
        "    transforms.ToTensor(),\n",
        "])\n",
        "\n",
        "# Load and preprocess the single image\n",
        "image_path = 'number.jpg'\n",
        "image = Image.open(image_path)\n",
        "input_tensor = transform(image)\n",
        "input_batch = input_tensor.unsqueeze(0)  # Add batch dimension\n",
        "\n",
        "# Perform inference\n",
        "with torch.no_grad():\n",
        "    output = model_test(input_batch.reshape(input_batch.shape[0], -1).to(device))\n",
        "\n",
        "# Interpret the model output (assuming classification task)\n",
        "_, predicted_class = torch.max(output, 1)\n",
        "\n",
        "# Print the predicted class\n",
        "print(f'Predicted class: {predicted_class.item()}')"
      ],
      "metadata": {
        "id": "wPqj3V-66hFc"
      },
      "execution_count": null,
      "outputs": []
    },
    {
      "cell_type": "code",
      "source": [
        "# Optionally, visualize the input image and the model's prediction\n",
        "plt.imshow(image, cmap='gray')\n",
        "plt.title(f'Predicted class: {predicted_class.item()}')\n",
        "plt.show()"
      ],
      "metadata": {
        "id": "igTM8g2MBnJr"
      },
      "execution_count": null,
      "outputs": []
    }
  ]
}